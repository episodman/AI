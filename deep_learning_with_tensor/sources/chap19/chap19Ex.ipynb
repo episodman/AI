{
 "cells": [
  {
   "cell_type": "code",
   "execution_count": 1,
   "metadata": {},
   "outputs": [
    {
     "name": "stdout",
     "output_type": "stream",
     "text": [
      "                                           paragraph category\n",
      "0  dishplace is located in sunnyvale downtown the...     food\n",
      "1  service can be slower during busy hours but ou...     food\n",
      "2  portions are huge both french toast and their ...     food\n",
      "3  we started with apps going the chicken and waf...     food\n",
      "4  the biscuits and gravy was too salty two peopl...     food\n"
     ]
    }
   ],
   "source": [
    "import tensorflow as tf\n",
    "from tensorflow.keras.layers import Dense, LSTM, GRU, Embedding\n",
    "from tensorflow.keras.models import Sequential\n",
    "from tensorflow.keras.preprocessing.text import one_hot\n",
    "from tensorflow.keras.preprocessing.sequence import pad_sequences\n",
    "import numpy as np\n",
    "import pandas as pd\n",
    "\n",
    "tf.random.set_seed(1)\n",
    "np.random.seed(1)\n",
    "\n",
    "paragraph_dict_list = [\n",
    "    {\n",
    "        'paragraph': 'dishplace is located in sunnyvale downtown there is parking around the area but it can be difficult to find during peak business hours my sisters and i came to this place for dinner on a weekday they were really busy so i highly recommended making reservations unless you have the patience to wait',\n",
    "        'category': 'food'},\n",
    "    {\n",
    "        'paragraph': 'service can be slower during busy hours but our waiter was courteous and help gave some great entree recommendations',\n",
    "        'category': 'food'},\n",
    "    {\n",
    "        'paragraph': 'portions are huge both french toast and their various omelettes are really good their french toast is probably 1.5x more than other brunch places great place to visit if you are hungry and dont want to wait 1 hour for a table',\n",
    "        'category': 'food'},\n",
    "    {\n",
    "        'paragraph': 'we started with apps going the chicken and waffle slides and chicken nachos the sliders were amazing and the nachos were good too maybe by themselves the nachos would have scored better but after those sliders they were up against some tough competition',\n",
    "        'category': 'food'},\n",
    "    {\n",
    "        'paragraph': 'the biscuits and gravy was too salty two people in my group had the gravy and all thought it was too salty my hubby ordered a side of double egg and it was served on two small plates who serves eggs to one person on separate plates we commented on that when it was delivered and even the server laughed and said she doesnt know why the kitchen does that presentation of food is important and they really missed on this one',\n",
    "        'category': 'food'},\n",
    "    {\n",
    "        'paragraph': 'the garlic fries were a great starter (and a happy hour special) the pancakes looked and tasted great and were a fairly generous portion',\n",
    "        'category': 'food'},\n",
    "    {\n",
    "        'paragraph': 'our meal was excellent i had the pasta ai formaggi which was so rich i didnt dare eat it all although i certainly wanted to excellent flavors with a great texture contrast between the soft pasta and the crisp bread crumbs too much sauce for me but a wonderful dish',\n",
    "        'category': 'food'},\n",
    "    {\n",
    "        'paragraph': 'what i enjoy most about palo alto is so many restaurants have dog-friendly seating outside i had bookmarked italico from when they first opened about a 1.5 years ago and was jonesing for some pasta so time to finally knock that bookmark off',\n",
    "        'category': 'food'},\n",
    "    {\n",
    "        'paragraph': 'the drinks came out fairly quickly a good two to three minutes after the orders were taken i expected my iced tea to taste a bit more sweet but this was straight up green tea with ice in it not to complain of course but i was pleasantly surprised',\n",
    "        'category': 'food'},\n",
    "    {\n",
    "        'paragraph': 'despite the not so good burger the service was so slow the restaurant wasnt even half full and they took very long from the moment we got seated to the time we left it was almost 2 hours we thought that it would be quick since we ordered as soon as we sat down my coworkers did seem to enjoy their beef burgers for those who eat beef however i will not be returning it is too expensive and extremely slow service',\n",
    "        'category': 'food'},\n",
    "\n",
    "    {\n",
    "        'paragraph': 'the four reigning major champions simona halep caroline wozniacki angelique kerber and defending us open champion sloane stephens could make a case for being the quartet most likely to succeed especially as all but stephens has also enjoyed the no1 ranking within the last 14 months as they prepare for their gruelling new york campaigns they currently hold the top four places in the ranks',\n",
    "        'category': 'sports'},\n",
    "    {\n",
    "        'paragraph': 'the briton was seeded nn7 here last year before a slump in form and confidence took her down to no46 after five first-round losses but there have been signs of a turnaround including a victory over a sub-par serena williams in san jose plus wins against jelena ostapenko and victoria azarenka in montreal. konta pulled out of new haven this week with illness but will hope for good things where she first scored wins in a major before her big breakthroughs to the semis in australia and wimbledon',\n",
    "        'category': 'sports'},\n",
    "    {\n",
    "        'paragraph': 'stephens surged her way back from injury in stunning style to win her first major here last year—and ranked just no83 she has since proved what a big time player she is winning the miami title via four fellow major champions then reaching the final at the french open back on north american hard courts she ran to the final in montreal only just edged out by halep she has also avoided many of the big names in her quarter—except for wild card azarenka as a possible in the third round',\n",
    "        'category': 'sports'},\n",
    "    {\n",
    "        'paragraph': 'when it came to england chances in the world cup it would be fair to say that most fans had never been more pessimistic than they were this year after enduring years of truly dismal performances at major tournaments – culminating in the 2014 event where they failed to win any of their three group games and finished in bottom spot those results led to the resignation of manager roy hodgson',\n",
    "        'category': 'sports'},\n",
    "    {\n",
    "        'paragraph': 'the team that eliminated russia – croatia – also improved enormously during the tournament before it began their odds were 33/1 but they played with real flair and star players like luka modric ivan rakitic and ivan perisic showed their quality on the world stage having displayed their potential by winning all three of their group stage games croatia went on to face difficult tests like the semi-final against england',\n",
    "        'category': 'sports'},\n",
    "    {\n",
    "        'paragraph': 'the perseyside outfit finished in fourth place in the premier league table and without a trophy last term after having reached the champions league final before losing to real madrid',\n",
    "        'category': 'sports'},\n",
    "    {\n",
    "        'paragraph': 'liverpool fc will return to premier league action on saturday lunchtime when they travel to leicester city in the top flight as they look to make it four wins in a row in the league',\n",
    "        'category': 'sports'},\n",
    "    {\n",
    "        'paragraph': 'alisson signed for liverpool fc from as roma this summer and the brazilian goalkeeper has helped the reds to keep three clean sheets in their first three premier league games',\n",
    "        'category': 'sports'},\n",
    "    {\n",
    "        'paragraph': 'but the rankings during that run-in to new york hid some very different undercurrents for murray had struggled with a hip injury since the clay swing and had not played a match since losing his quarter-final at wimbledon and he would pull out of the us open just two days before the tournament began—too late however to promote nederer to the no2 seeding',\n",
    "        'category': 'sports'},\n",
    "    {\n",
    "        'paragraph': 'then came the oh-so-familiar djokovic-nadal no-quarter-given battle for dominance in the third set there were exhilarating rallies with both chasing to the net both retrieving what looked like winning shots nadal more than once pulled off a reverse smash and had his chance to seal the tie-break but it was djokovic serving at 10-9 who dragged one decisive error from nadal for a two-sets lead',\n",
    "        'category': 'sports'}\n",
    "]\n",
    "df = pd.DataFrame(paragraph_dict_list)\n",
    "print(df.head())"
   ]
  },
  {
   "cell_type": "code",
   "execution_count": 2,
   "metadata": {},
   "outputs": [
    {
     "name": "stdout",
     "output_type": "stream",
     "text": [
      "vocab_size: 536\n"
     ]
    }
   ],
   "source": [
    "def get_vocab_size(df):\n",
    "    results = set()\n",
    "    df['paragraph'].str.lower().str.split().apply(results.update)\n",
    "    return len(results)\n",
    "\n",
    "vocab_size = get_vocab_size(df)\n",
    "print('vocab_size:', vocab_size)"
   ]
  },
  {
   "cell_type": "code",
   "execution_count": 3,
   "metadata": {},
   "outputs": [
    {
     "name": "stdout",
     "output_type": "stream",
     "text": [
      "['dishplace is located in sunnyvale downtown there is parking around the area but it can be difficult to find during peak business hours my sisters and i came to this place for dinner on a weekday they were really busy so i highly recommended making reservations unless you have the patience to wait', 'service can be slower during busy hours but our waiter was courteous and help gave some great entree recommendations', 'portions are huge both french toast and their various omelettes are really good their french toast is probably 1.5x more than other brunch places great place to visit if you are hungry and dont want to wait 1 hour for a table', 'we started with apps going the chicken and waffle slides and chicken nachos the sliders were amazing and the nachos were good too maybe by themselves the nachos would have scored better but after those sliders they were up against some tough competition', 'the biscuits and gravy was too salty two people in my group had the gravy and all thought it was too salty my hubby ordered a side of double egg and it was served on two small plates who serves eggs to one person on separate plates we commented on that when it was delivered and even the server laughed and said she doesnt know why the kitchen does that presentation of food is important and they really missed on this one', 'the garlic fries were a great starter (and a happy hour special) the pancakes looked and tasted great and were a fairly generous portion', 'our meal was excellent i had the pasta ai formaggi which was so rich i didnt dare eat it all although i certainly wanted to excellent flavors with a great texture contrast between the soft pasta and the crisp bread crumbs too much sauce for me but a wonderful dish', 'what i enjoy most about palo alto is so many restaurants have dog-friendly seating outside i had bookmarked italico from when they first opened about a 1.5 years ago and was jonesing for some pasta so time to finally knock that bookmark off', 'the drinks came out fairly quickly a good two to three minutes after the orders were taken i expected my iced tea to taste a bit more sweet but this was straight up green tea with ice in it not to complain of course but i was pleasantly surprised', 'despite the not so good burger the service was so slow the restaurant wasnt even half full and they took very long from the moment we got seated to the time we left it was almost 2 hours we thought that it would be quick since we ordered as soon as we sat down my coworkers did seem to enjoy their beef burgers for those who eat beef however i will not be returning it is too expensive and extremely slow service', 'the four reigning major champions simona halep caroline wozniacki angelique kerber and defending us open champion sloane stephens could make a case for being the quartet most likely to succeed especially as all but stephens has also enjoyed the no1 ranking within the last 14 months as they prepare for their gruelling new york campaigns they currently hold the top four places in the ranks', 'the briton was seeded nn7 here last year before a slump in form and confidence took her down to no46 after five first-round losses but there have been signs of a turnaround including a victory over a sub-par serena williams in san jose plus wins against jelena ostapenko and victoria azarenka in montreal. konta pulled out of new haven this week with illness but will hope for good things where she first scored wins in a major before her big breakthroughs to the semis in australia and wimbledon', 'stephens surged her way back from injury in stunning style to win her first major here last year—and ranked just no83 she has since proved what a big time player she is winning the miami title via four fellow major champions then reaching the final at the french open back on north american hard courts she ran to the final in montreal only just edged out by halep she has also avoided many of the big names in her quarter—except for wild card azarenka as a possible in the third round', 'when it came to england chances in the world cup it would be fair to say that most fans had never been more pessimistic than they were this year after enduring years of truly dismal performances at major tournaments – culminating in the 2014 event where they failed to win any of their three group games and finished in bottom spot those results led to the resignation of manager roy hodgson', 'the team that eliminated russia – croatia – also improved enormously during the tournament before it began their odds were 33/1 but they played with real flair and star players like luka modric ivan rakitic and ivan perisic showed their quality on the world stage having displayed their potential by winning all three of their group stage games croatia went on to face difficult tests like the semi-final against england', 'the perseyside outfit finished in fourth place in the premier league table and without a trophy last term after having reached the champions league final before losing to real madrid', 'liverpool fc will return to premier league action on saturday lunchtime when they travel to leicester city in the top flight as they look to make it four wins in a row in the league', 'alisson signed for liverpool fc from as roma this summer and the brazilian goalkeeper has helped the reds to keep three clean sheets in their first three premier league games', 'but the rankings during that run-in to new york hid some very different undercurrents for murray had struggled with a hip injury since the clay swing and had not played a match since losing his quarter-final at wimbledon and he would pull out of the us open just two days before the tournament began—too late however to promote nederer to the no2 seeding', 'then came the oh-so-familiar djokovic-nadal no-quarter-given battle for dominance in the third set there were exhilarating rallies with both chasing to the net both retrieving what looked like winning shots nadal more than once pulled off a reverse smash and had his chance to seal the tie-break but it was djokovic serving at 10-9 who dragged one decisive error from nadal for a two-sets lead']\n"
     ]
    }
   ],
   "source": [
    "paragraphs = df['paragraph'].tolist()\n",
    "print(paragraphs)"
   ]
  },
  {
   "cell_type": "code",
   "execution_count": 4,
   "metadata": {},
   "outputs": [
    {
     "name": "stdout",
     "output_type": "stream",
     "text": [
      "[[428, 242, 94, 333, 249, 46, 98, 242, 352, 75, 166, 23, 425, 362, 504, 86, 62, 121, 399, 143, 190, 189, 466, 293, 209, 302, 40, 353, 121, 145, 86, 349, 112, 61, 503, 519, 534, 284, 301, 261, 211, 40, 524, 415, 200, 415, 531, 269, 18, 166, 214, 121, 146], [225, 504, 86, 351, 143, 261, 466, 425, 133, 323, 46, 123, 302, 133, 437, 116, 225, 158, 418], [441, 97, 512, 118, 346, 181, 302, 439, 437, 522, 97, 301, 218, 439, 346, 181, 242, 284, 43, 388, 96, 12, 111, 505, 218, 225, 86, 121, 38, 302, 269, 97, 466, 302, 379, 528, 121, 146, 43, 237, 349, 503, 249], [377, 155, 521, 1, 406, 166, 172, 302, 449, 183, 302, 172, 297, 166, 391, 284, 97, 302, 166, 297, 284, 218, 430, 535, 243, 484, 166, 297, 150, 18, 108, 260, 425, 223, 270, 391, 534, 284, 158, 264, 116, 150, 370], [166, 504, 302, 237, 46, 430, 279, 296, 483, 333, 293, 306, 480, 166, 237, 302, 306, 46, 362, 46, 430, 279, 293, 221, 494, 503, 531, 348, 25, 532, 302, 362, 46, 140, 61, 296, 132, 99, 104, 522, 225, 121, 44, 530, 61, 119, 99, 377, 122, 61, 261, 416, 362, 46, 340, 302, 173, 166, 362, 464, 302, 400, 148, 171, 393, 8, 166, 43, 208, 261, 502, 348, 26, 242, 231, 302, 534, 301, 439, 61, 145, 44], [166, 223, 379, 284, 503, 225, 188, 302, 503, 3, 237, 461, 166, 156, 74, 302, 454, 225, 302, 284, 503, 461, 435, 43], [133, 218, 46, 116, 40, 480, 166, 436, 522, 206, 11, 46, 211, 253, 40, 196, 102, 478, 362, 306, 1, 40, 171, 222, 121, 116, 310, 521, 503, 225, 407, 68, 408, 166, 82, 436, 302, 166, 354, 30, 125, 430, 399, 460, 349, 523, 425, 503, 156, 74], [27, 40, 307, 278, 15, 12, 345, 242, 211, 459, 60, 18, 49, 517, 35, 514, 40, 480, 398, 183, 350, 416, 534, 530, 229, 15, 503, 43, 253, 366, 437, 302, 46, 74, 349, 116, 436, 211, 9, 121, 220, 318, 261, 13, 508], [166, 25, 353, 355, 461, 72, 503, 218, 296, 121, 185, 14, 223, 166, 462, 284, 423, 40, 64, 293, 397, 10, 121, 385, 503, 280, 96, 516, 425, 145, 46, 312, 158, 333, 10, 521, 135, 333, 362, 503, 121, 324, 348, 287, 425, 40, 46, 371, 433], [146, 166, 503, 211, 218, 170, 166, 225, 46, 211, 393, 166, 433, 427, 173, 37, 494, 302, 534, 365, 498, 356, 350, 166, 21, 377, 179, 77, 121, 166, 9, 377, 231, 362, 46, 180, 264, 466, 377, 46, 261, 362, 150, 86, 487, 83, 377, 494, 251, 487, 251, 377, 90, 199, 293, 97, 436, 153, 121, 307, 439, 470, 131, 349, 270, 104, 478, 470, 212, 40, 116, 503, 86, 262, 362, 242, 430, 140, 302, 505, 393, 225], [166, 59, 402, 395, 437, 84, 108, 324, 236, 403, 297, 302, 338, 465, 421, 227, 77, 18, 123, 27, 503, 284, 349, 506, 166, 422, 278, 163, 121, 78, 226, 251, 306, 425, 18, 372, 429, 145, 166, 64, 223, 254, 166, 421, 112, 355, 251, 534, 496, 349, 439, 249, 211, 188, 307, 534, 297, 369, 166, 371, 59, 218, 333, 166, 464], [166, 243, 46, 453, 253, 101, 421, 89, 2, 503, 249, 333, 477, 302, 414, 365, 265, 199, 121, 342, 223, 500, 530, 43, 193, 425, 98, 18, 222, 301, 348, 503, 134, 56, 503, 185, 108, 503, 132, 54, 417, 79, 333, 46, 344, 86, 481, 264, 402, 308, 302, 136, 255, 333, 399, 283, 245, 355, 348, 211, 276, 145, 168, 521, 140, 425, 116, 364, 349, 218, 457, 405, 148, 530, 108, 481, 333, 503, 395, 2, 265, 55, 433, 121, 166, 37, 333, 431, 302, 485], [18, 361, 265, 496, 406, 350, 439, 333, 349, 466, 121, 242, 265, 530, 395, 101, 421, 324, 378, 271, 168, 148, 372, 83, 442, 27, 503, 55, 9, 51, 148, 242, 87, 166, 401, 317, 373, 59, 280, 395, 437, 504, 182, 166, 366, 153, 166, 346, 421, 406, 61, 43, 183, 349, 352, 148, 485, 121, 166, 366, 333, 399, 505, 271, 129, 355, 243, 108, 148, 372, 429, 240, 459, 348, 166, 55, 200, 333, 265, 248, 349, 7, 397, 255, 251, 503, 294, 333, 166, 32, 43], [416, 362, 353, 121, 344, 12, 333, 166, 7, 95, 362, 150, 86, 344, 121, 412, 261, 278, 321, 480, 1, 222, 96, 12, 12, 534, 284, 145, 89, 223, 407, 366, 348, 99, 52, 304, 153, 395, 502, 8, 462, 333, 166, 111, 35, 405, 534, 497, 121, 242, 26, 348, 439, 185, 306, 258, 302, 515, 333, 68, 372, 270, 81, 5, 121, 166, 250, 348, 85, 125, 88], [166, 517, 261, 217, 245, 8, 309, 8, 429, 117, 246, 143, 166, 317, 2, 362, 349, 439, 474, 284, 139, 43, 425, 534, 111, 521, 520, 190, 302, 157, 521, 252, 215, 249, 64, 221, 302, 64, 25, 15, 439, 433, 61, 166, 7, 135, 29, 337, 439, 241, 243, 87, 306, 185, 348, 439, 306, 135, 258, 309, 448, 61, 121, 326, 62, 438, 252, 166, 48, 366, 264, 344], [166, 320, 74, 515, 333, 157, 86, 333, 166, 438, 342, 249, 302, 232, 503, 370, 421, 359, 223, 29, 502, 166, 437, 342, 366, 2, 36, 121, 520, 526], [464, 173, 116, 191, 121, 438, 342, 143, 61, 152, 380, 416, 534, 406, 121, 404, 315, 333, 166, 371, 328, 251, 534, 471, 121, 27, 362, 59, 481, 333, 503, 103, 333, 166, 342], [393, 227, 349, 464, 173, 350, 251, 242, 145, 426, 302, 166, 134, 108, 372, 135, 166, 192, 121, 74, 185, 77, 174, 333, 439, 530, 185, 438, 342, 258], [425, 166, 485, 143, 261, 101, 333, 121, 211, 188, 431, 116, 498, 78, 438, 349, 152, 480, 134, 521, 503, 367, 439, 83, 166, 394, 335, 302, 480, 503, 111, 503, 33, 83, 36, 120, 16, 366, 153, 485, 302, 314, 150, 235, 355, 348, 166, 465, 421, 271, 296, 170, 2, 166, 317, 517, 11, 212, 121, 286, 521, 121, 166, 300, 286], [504, 353, 166, 464, 211, 127, 355, 255, 178, 16, 458, 64, 349, 317, 333, 166, 32, 220, 98, 284, 366, 182, 521, 118, 260, 121, 166, 513, 118, 299, 27, 74, 252, 87, 397, 255, 96, 12, 403, 245, 508, 503, 125, 371, 302, 480, 120, 192, 121, 316, 166, 7, 128, 425, 362, 46, 355, 229, 153, 151, 336, 104, 101, 44, 1, 177, 350, 255, 349, 503, 296, 230, 493]]\n"
     ]
    }
   ],
   "source": [
    "encoded_paragraphs = [one_hot(paragraph, vocab_size) for paragraph in paragraphs]\n",
    "print(encoded_paragraphs)"
   ]
  },
  {
   "cell_type": "code",
   "execution_count": 5,
   "metadata": {},
   "outputs": [
    {
     "data": {
      "text/plain": [
       "91"
      ]
     },
     "execution_count": 5,
     "metadata": {},
     "output_type": "execute_result"
    }
   ],
   "source": [
    "def get_max_length(df):\n",
    "    max_length = 0\n",
    "    for row in df['paragraph']:\n",
    "        if len(row.split(\" \")) > max_length:\n",
    "            max_length = len(row.split(\" \"))\n",
    "    return max_length\n",
    "\n",
    "\n",
    "max_length = get_max_length(df)\n",
    "max_length"
   ]
  },
  {
   "cell_type": "code",
   "execution_count": 6,
   "metadata": {},
   "outputs": [
    {
     "name": "stdout",
     "output_type": "stream",
     "text": [
      "[[428 242  94 ...   0   0   0]\n",
      " [225 504  86 ...   0   0   0]\n",
      " [441  97 512 ...   0   0   0]\n",
      " ...\n",
      " [393 227 349 ...   0   0   0]\n",
      " [425 166 485 ...   0   0   0]\n",
      " [504 353 166 ...   0   0   0]]\n"
     ]
    }
   ],
   "source": [
    "padded_paragraphs_encoding = pad_sequences(encoded_paragraphs, maxlen=max_length, padding='post')\n",
    "print(padded_paragraphs_encoding)"
   ]
  },
  {
   "cell_type": "code",
   "execution_count": 7,
   "metadata": {},
   "outputs": [
    {
     "name": "stdout",
     "output_type": "stream",
     "text": [
      "[[1, 0], [1, 0], [1, 0], [1, 0], [1, 0], [1, 0], [1, 0], [1, 0], [1, 0], [1, 0], [0, 1], [0, 1], [0, 1], [0, 1], [0, 1], [0, 1], [0, 1], [0, 1], [0, 1], [0, 1]]\n"
     ]
    }
   ],
   "source": [
    "categories = df['category'].tolist()\n",
    "def category_encode(category):\n",
    "    if category == 'food':\n",
    "        return [1,0]\n",
    "    else:\n",
    "        return [0,1]\n",
    "encoded_category = [category_encode(category) for category in categories]\n",
    "print(encoded_category)"
   ]
  },
  {
   "cell_type": "code",
   "execution_count": 8,
   "metadata": {},
   "outputs": [
    {
     "name": "stdout",
     "output_type": "stream",
     "text": [
      "Model: \"sequential\"\n",
      "_________________________________________________________________\n",
      "Layer (type)                 Output Shape              Param #   \n",
      "=================================================================\n",
      "embedding (Embedding)        (None, 91, 5)             2680      \n",
      "_________________________________________________________________\n",
      "lstm (LSTM)                  (None, 64)                17920     \n",
      "_________________________________________________________________\n",
      "dense (Dense)                (None, 32)                2080      \n",
      "_________________________________________________________________\n",
      "dense_1 (Dense)              (None, 2)                 66        \n",
      "=================================================================\n",
      "Total params: 22,746\n",
      "Trainable params: 22,746\n",
      "Non-trainable params: 0\n",
      "_________________________________________________________________\n"
     ]
    }
   ],
   "source": [
    "model = Sequential()\n",
    "model.add(Embedding(vocab_size, 5, input_length=max_length))\n",
    "model.add(GRU(64))\n",
    "model.add(Dense(32, activation='relu'))\n",
    "model.add(Dense(2, activation='softmax'))\n",
    "\n",
    "model.compile(loss='categorical_crossentropy',\n",
    "              optimizer='adam',\n",
    "              metrics=['accuracy'])\n",
    "model.summary()"
   ]
  },
  {
   "cell_type": "code",
   "execution_count": 9,
   "metadata": {},
   "outputs": [
    {
     "name": "stdout",
     "output_type": "stream",
     "text": [
      "Epoch 1/50\n",
      "2/2 [==============================] - 0s 31ms/step - loss: 0.6940 - accuracy: 0.5500\n",
      "Epoch 2/50\n",
      "2/2 [==============================] - 0s 44ms/step - loss: 0.6925 - accuracy: 0.5500\n",
      "Epoch 3/50\n",
      "2/2 [==============================] - 0s 58ms/step - loss: 0.6923 - accuracy: 0.5500\n",
      "Epoch 4/50\n",
      "2/2 [==============================] - 0s 23ms/step - loss: 0.6922 - accuracy: 0.5500\n",
      "Epoch 5/50\n",
      "2/2 [==============================] - 0s 72ms/step - loss: 0.6919 - accuracy: 0.5500\n",
      "Epoch 6/50\n",
      "2/2 [==============================] - 0s 48ms/step - loss: 0.6915 - accuracy: 0.4500\n",
      "Epoch 7/50\n",
      "2/2 [==============================] - 0s 42ms/step - loss: 0.6909 - accuracy: 0.5000\n",
      "Epoch 8/50\n",
      "2/2 [==============================] - 0s 40ms/step - loss: 0.6903 - accuracy: 0.6000\n",
      "Epoch 9/50\n",
      "2/2 [==============================] - 0s 40ms/step - loss: 0.6896 - accuracy: 0.6000\n",
      "Epoch 10/50\n",
      "2/2 [==============================] - 0s 45ms/step - loss: 0.6890 - accuracy: 0.6000\n",
      "Epoch 11/50\n",
      "2/2 [==============================] - 0s 38ms/step - loss: 0.6877 - accuracy: 0.6000\n",
      "Epoch 12/50\n",
      "2/2 [==============================] - 0s 36ms/step - loss: 0.6861 - accuracy: 0.6000\n",
      "Epoch 13/50\n",
      "2/2 [==============================] - 0s 14ms/step - loss: 0.6832 - accuracy: 0.6000\n",
      "Epoch 14/50\n",
      "2/2 [==============================] - 0s 56ms/step - loss: 0.6786 - accuracy: 0.6000\n",
      "Epoch 15/50\n",
      "2/2 [==============================] - 0s 48ms/step - loss: 0.6696 - accuracy: 0.7000\n",
      "Epoch 16/50\n",
      "2/2 [==============================] - 0s 18ms/step - loss: 0.6532 - accuracy: 0.5500\n",
      "Epoch 17/50\n",
      "2/2 [==============================] - 0s 19ms/step - loss: 0.6242 - accuracy: 0.6000\n",
      "Epoch 18/50\n",
      "2/2 [==============================] - 0s 23ms/step - loss: 0.7803 - accuracy: 0.5500\n",
      "Epoch 19/50\n",
      "2/2 [==============================] - 0s 18ms/step - loss: 0.5465 - accuracy: 0.7000\n",
      "Epoch 20/50\n",
      "2/2 [==============================] - 0s 17ms/step - loss: 0.6073 - accuracy: 0.8000\n",
      "Epoch 21/50\n",
      "2/2 [==============================] - 0s 16ms/step - loss: 0.6402 - accuracy: 0.6500\n",
      "Epoch 22/50\n",
      "2/2 [==============================] - 0s 17ms/step - loss: 0.6500 - accuracy: 0.6000\n",
      "Epoch 23/50\n",
      "2/2 [==============================] - 0s 22ms/step - loss: 0.6507 - accuracy: 0.6000\n",
      "Epoch 24/50\n",
      "2/2 [==============================] - 0s 17ms/step - loss: 0.6506 - accuracy: 0.6000\n",
      "Epoch 25/50\n",
      "2/2 [==============================] - 0s 13ms/step - loss: 0.6501 - accuracy: 0.6000\n",
      "Epoch 26/50\n",
      "2/2 [==============================] - 0s 19ms/step - loss: 0.6445 - accuracy: 0.6000\n",
      "Epoch 27/50\n",
      "2/2 [==============================] - 0s 15ms/step - loss: 0.6388 - accuracy: 0.6000\n",
      "Epoch 28/50\n",
      "2/2 [==============================] - 0s 16ms/step - loss: 0.6310 - accuracy: 0.6000\n",
      "Epoch 29/50\n",
      "2/2 [==============================] - 0s 16ms/step - loss: 0.6156 - accuracy: 0.6000\n",
      "Epoch 30/50\n",
      "2/2 [==============================] - 0s 16ms/step - loss: 0.5897 - accuracy: 0.6500\n",
      "Epoch 31/50\n",
      "2/2 [==============================] - 0s 26ms/step - loss: 0.5345 - accuracy: 0.8000\n",
      "Epoch 32/50\n",
      "2/2 [==============================] - 0s 13ms/step - loss: 0.4226 - accuracy: 0.8500\n",
      "Epoch 33/50\n",
      "2/2 [==============================] - 0s 15ms/step - loss: 0.3145 - accuracy: 0.8500\n",
      "Epoch 34/50\n",
      "2/2 [==============================] - 0s 15ms/step - loss: 0.1890 - accuracy: 0.9500\n",
      "Epoch 35/50\n",
      "2/2 [==============================] - 0s 19ms/step - loss: 0.1963 - accuracy: 0.9500\n",
      "Epoch 36/50\n",
      "2/2 [==============================] - 0s 19ms/step - loss: 0.1807 - accuracy: 0.9500\n",
      "Epoch 37/50\n",
      "2/2 [==============================] - 0s 23ms/step - loss: 0.1620 - accuracy: 0.9500\n",
      "Epoch 38/50\n",
      "2/2 [==============================] - 0s 15ms/step - loss: 0.0300 - accuracy: 1.0000\n",
      "Epoch 39/50\n",
      "2/2 [==============================] - 0s 15ms/step - loss: 0.0359 - accuracy: 1.0000\n",
      "Epoch 40/50\n",
      "2/2 [==============================] - 0s 14ms/step - loss: 0.0377 - accuracy: 1.0000\n",
      "Epoch 41/50\n",
      "2/2 [==============================] - 0s 13ms/step - loss: 0.0346 - accuracy: 1.0000\n",
      "Epoch 42/50\n",
      "2/2 [==============================] - 0s 13ms/step - loss: 0.0254 - accuracy: 1.0000\n",
      "Epoch 43/50\n",
      "2/2 [==============================] - 0s 19ms/step - loss: 0.0186 - accuracy: 1.0000\n",
      "Epoch 44/50\n",
      "2/2 [==============================] - 0s 30ms/step - loss: 0.0132 - accuracy: 1.0000\n",
      "Epoch 45/50\n",
      "2/2 [==============================] - 0s 18ms/step - loss: 0.0096 - accuracy: 1.0000\n",
      "Epoch 46/50\n",
      "2/2 [==============================] - 0s 28ms/step - loss: 0.0068 - accuracy: 1.0000\n",
      "Epoch 47/50\n",
      "2/2 [==============================] - 0s 15ms/step - loss: 0.0052 - accuracy: 1.0000\n",
      "Epoch 48/50\n",
      "2/2 [==============================] - 0s 15ms/step - loss: 0.0039 - accuracy: 1.0000\n",
      "Epoch 49/50\n",
      "2/2 [==============================] - 0s 18ms/step - loss: 0.0030 - accuracy: 1.0000\n",
      "Epoch 50/50\n",
      "2/2 [==============================] - 0s 34ms/step - loss: 0.0024 - accuracy: 1.0000\n"
     ]
    },
    {
     "data": {
      "text/plain": [
       "<tensorflow.python.keras.callbacks.History at 0x7f02a45e4350>"
      ]
     },
     "execution_count": 9,
     "metadata": {},
     "output_type": "execute_result"
    }
   ],
   "source": [
    "x_train = np.array(padded_paragraphs_encoding)\n",
    "y_train = np.array(encoded_category)\n",
    "model.fit(x_train, y_train,batch_size=10,epochs=50)"
   ]
  },
  {
   "cell_type": "code",
   "execution_count": 10,
   "metadata": {},
   "outputs": [
    {
     "name": "stdout",
     "output_type": "stream",
     "text": [
      "1/1 [==============================] - 0s 4ms/step - loss: 0.0020 - accuracy: 1.0000\n"
     ]
    },
    {
     "data": {
      "text/plain": [
       "[0.0020458095241338015, 1.0]"
      ]
     },
     "execution_count": 10,
     "metadata": {},
     "output_type": "execute_result"
    }
   ],
   "source": [
    "model.evaluate(x_train, y_train)"
   ]
  },
  {
   "cell_type": "code",
   "execution_count": null,
   "metadata": {},
   "outputs": [],
   "source": []
  }
 ],
 "metadata": {
  "kernelspec": {
   "display_name": "Python 3",
   "language": "python",
   "name": "python3"
  },
  "language_info": {
   "codemirror_mode": {
    "name": "ipython",
    "version": 3
   },
   "file_extension": ".py",
   "mimetype": "text/x-python",
   "name": "python",
   "nbconvert_exporter": "python",
   "pygments_lexer": "ipython3",
   "version": "3.7.4"
  }
 },
 "nbformat": 4,
 "nbformat_minor": 4
}
