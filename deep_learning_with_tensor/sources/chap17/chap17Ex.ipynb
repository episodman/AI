{
 "cells": [
  {
   "cell_type": "code",
   "execution_count": 1,
   "metadata": {},
   "outputs": [
    {
     "name": "stdout",
     "output_type": "stream",
     "text": [
      "Model: \"sequential\"\n",
      "_________________________________________________________________\n",
      "Layer (type)                 Output Shape              Param #   \n",
      "=================================================================\n",
      "conv2d (Conv2D)              (None, 26, 26, 32)        320       \n",
      "_________________________________________________________________\n",
      "conv2d_1 (Conv2D)            (None, 24, 24, 64)        18496     \n",
      "_________________________________________________________________\n",
      "max_pooling2d (MaxPooling2D) (None, 12, 12, 64)        0         \n",
      "_________________________________________________________________\n",
      "dropout (Dropout)            (None, 12, 12, 64)        0         \n",
      "_________________________________________________________________\n",
      "flatten (Flatten)            (None, 9216)              0         \n",
      "_________________________________________________________________\n",
      "dense (Dense)                (None, 128)               1179776   \n",
      "_________________________________________________________________\n",
      "dropout_1 (Dropout)          (None, 128)               0         \n",
      "_________________________________________________________________\n",
      "dense_1 (Dense)              (None, 10)                1290      \n",
      "=================================================================\n",
      "Total params: 1,199,882\n",
      "Trainable params: 1,199,882\n",
      "Non-trainable params: 0\n",
      "_________________________________________________________________\n"
     ]
    }
   ],
   "source": [
    "from tensorflow.keras.datasets import mnist\n",
    "from tensorflow.keras.utils import to_categorical\n",
    "from tensorflow.keras.models import Sequential\n",
    "from tensorflow.keras.layers import Dense, Dropout, Flatten, Conv2D, MaxPooling2D\n",
    "import matplotlib.pyplot as plt\n",
    "import numpy as np\n",
    "import tensorflow as tf\n",
    "\n",
    "np.random.seed(3)\n",
    "tf.random.set_seed(3)\n",
    "\n",
    "(x_train, y_train), (x_test, y_test) = mnist.load_data()\n",
    "x_train = x_train.reshape(x_train.shape[0], 28, 28, 1).astype('float32')/255\n",
    "x_test = x_test.reshape(x_test.shape[0], 28, 28, 1).astype('float32')/255\n",
    "y_train = to_categorical(y_train)\n",
    "y_test = to_categorical(y_test)\n",
    "\n",
    "model = Sequential()\n",
    "model.add(Conv2D(32, kernel_size=(3, 3), input_shape=(28, 28, 1), activation='relu'))\n",
    "model.add(Conv2D(64, (3,3), activation='relu'))\n",
    "model.add(MaxPooling2D(pool_size=2))\n",
    "model.add(Dropout(0.25))\n",
    "model.add(Flatten())\n",
    "model.add(Dense(128, activation='relu'))\n",
    "model.add(Dropout(0.5))\n",
    "model.add(Dense(10, activation='softmax'))\n",
    "\n",
    "model.summary()\n"
   ]
  },
  {
   "cell_type": "code",
   "execution_count": 2,
   "metadata": {},
   "outputs": [
    {
     "name": "stdout",
     "output_type": "stream",
     "text": [
      "Epoch 1/30\n",
      "300/300 [==============================] - 57s 190ms/step - loss: 0.2707 - accuracy: 0.9180 - val_loss: 0.0525 - val_accuracy: 0.9834\n",
      "Epoch 2/30\n",
      "300/300 [==============================] - 56s 187ms/step - loss: 0.0888 - accuracy: 0.9738 - val_loss: 0.0395 - val_accuracy: 0.9870\n",
      "Epoch 3/30\n",
      "300/300 [==============================] - 56s 187ms/step - loss: 0.0667 - accuracy: 0.9797 - val_loss: 0.0340 - val_accuracy: 0.9876\n",
      "Epoch 4/30\n",
      "300/300 [==============================] - 55s 183ms/step - loss: 0.0548 - accuracy: 0.9833 - val_loss: 0.0313 - val_accuracy: 0.9899\n",
      "Epoch 5/30\n",
      "300/300 [==============================] - 56s 186ms/step - loss: 0.0451 - accuracy: 0.9865 - val_loss: 0.0298 - val_accuracy: 0.9903\n",
      "Epoch 6/30\n",
      "300/300 [==============================] - 56s 187ms/step - loss: 0.0417 - accuracy: 0.9869 - val_loss: 0.0282 - val_accuracy: 0.9901\n",
      "Epoch 7/30\n",
      "300/300 [==============================] - 57s 191ms/step - loss: 0.0359 - accuracy: 0.9885 - val_loss: 0.0307 - val_accuracy: 0.9895\n",
      "Epoch 8/30\n",
      "300/300 [==============================] - 58s 192ms/step - loss: 0.0336 - accuracy: 0.9894 - val_loss: 0.0285 - val_accuracy: 0.9913\n",
      "Epoch 9/30\n",
      "300/300 [==============================] - 57s 190ms/step - loss: 0.0293 - accuracy: 0.9905 - val_loss: 0.0298 - val_accuracy: 0.9916\n",
      "Epoch 10/30\n",
      "300/300 [==============================] - 56s 188ms/step - loss: 0.0280 - accuracy: 0.9911 - val_loss: 0.0298 - val_accuracy: 0.9907\n",
      "Epoch 11/30\n",
      "300/300 [==============================] - 55s 183ms/step - loss: 0.0238 - accuracy: 0.9924 - val_loss: 0.0287 - val_accuracy: 0.9915\n",
      "Epoch 12/30\n",
      "300/300 [==============================] - 55s 183ms/step - loss: 0.0230 - accuracy: 0.9924 - val_loss: 0.0324 - val_accuracy: 0.9904\n",
      "Epoch 13/30\n",
      "300/300 [==============================] - 56s 186ms/step - loss: 0.0221 - accuracy: 0.9925 - val_loss: 0.0279 - val_accuracy: 0.9921\n",
      "Epoch 14/30\n",
      "300/300 [==============================] - 55s 185ms/step - loss: 0.0206 - accuracy: 0.9931 - val_loss: 0.0255 - val_accuracy: 0.9927\n",
      "Epoch 15/30\n",
      "300/300 [==============================] - 56s 187ms/step - loss: 0.0185 - accuracy: 0.9934 - val_loss: 0.0312 - val_accuracy: 0.9921\n",
      "Epoch 16/30\n",
      "300/300 [==============================] - 56s 187ms/step - loss: 0.0186 - accuracy: 0.9939 - val_loss: 0.0263 - val_accuracy: 0.9922\n",
      "Epoch 17/30\n",
      "300/300 [==============================] - 57s 189ms/step - loss: 0.0170 - accuracy: 0.9944 - val_loss: 0.0263 - val_accuracy: 0.9931\n",
      "Epoch 18/30\n",
      "300/300 [==============================] - 57s 189ms/step - loss: 0.0160 - accuracy: 0.9947 - val_loss: 0.0292 - val_accuracy: 0.9921\n",
      "Epoch 19/30\n",
      "300/300 [==============================] - 57s 191ms/step - loss: 0.0135 - accuracy: 0.9955 - val_loss: 0.0281 - val_accuracy: 0.9925\n",
      "Epoch 20/30\n",
      "300/300 [==============================] - 57s 190ms/step - loss: 0.0146 - accuracy: 0.9948 - val_loss: 0.0287 - val_accuracy: 0.9930\n",
      "Epoch 21/30\n",
      "300/300 [==============================] - 57s 190ms/step - loss: 0.0134 - accuracy: 0.9953 - val_loss: 0.0286 - val_accuracy: 0.9931\n",
      "Epoch 22/30\n",
      "300/300 [==============================] - 57s 190ms/step - loss: 0.0137 - accuracy: 0.9955 - val_loss: 0.0298 - val_accuracy: 0.9927\n",
      "Epoch 23/30\n",
      "300/300 [==============================] - 57s 189ms/step - loss: 0.0145 - accuracy: 0.9951 - val_loss: 0.0253 - val_accuracy: 0.9933\n",
      "Epoch 24/30\n",
      "300/300 [==============================] - 57s 191ms/step - loss: 0.0118 - accuracy: 0.9958 - val_loss: 0.0235 - val_accuracy: 0.9937\n",
      "Epoch 25/30\n",
      "300/300 [==============================] - 57s 189ms/step - loss: 0.0122 - accuracy: 0.9960 - val_loss: 0.0287 - val_accuracy: 0.9938\n",
      "Epoch 26/30\n",
      "300/300 [==============================] - 56s 186ms/step - loss: 0.0113 - accuracy: 0.9962 - val_loss: 0.0299 - val_accuracy: 0.9930\n",
      "Epoch 27/30\n",
      "300/300 [==============================] - 56s 186ms/step - loss: 0.0107 - accuracy: 0.9963 - val_loss: 0.0273 - val_accuracy: 0.9932\n",
      "Epoch 28/30\n",
      "300/300 [==============================] - 56s 186ms/step - loss: 0.0111 - accuracy: 0.9961 - val_loss: 0.0301 - val_accuracy: 0.9935\n",
      "Epoch 29/30\n",
      "300/300 [==============================] - 57s 189ms/step - loss: 0.0112 - accuracy: 0.9960 - val_loss: 0.0289 - val_accuracy: 0.9935\n",
      "Epoch 30/30\n",
      "300/300 [==============================] - 57s 190ms/step - loss: 0.0098 - accuracy: 0.9966 - val_loss: 0.0286 - val_accuracy: 0.9937\n",
      "313/313 [==============================] - 3s 8ms/step - loss: 0.0286 - accuracy: 0.9937\n",
      "loss & accuracy: [0.02863936685025692, 0.9937000274658203]\n"
     ]
    },
    {
     "data": {
      "image/png": "[encoded data removed]",
      "text/plain": [
       "<Figure size 432x288 with 1 Axes>"
      ]
     },
     "metadata": {
      "needs_background": "light"
     },
     "output_type": "display_data"
    }
   ],
   "source": [
    "model.compile(loss='categorical_crossentropy',\n",
    "              optimizer='adam',\n",
    "              metrics=['accuracy'])\n",
    "\n",
    "result = model.fit(x_train, y_train,\n",
    "                   validation_data=(x_test, y_test),\n",
    "                   epochs=30,\n",
    "                   batch_size=200)\n",
    "\n",
    "print('loss & accuracy:',model.evaluate(x_test, y_test))\n",
    "y_vloss = result.history['val_loss']\n",
    "y_loss = result.history['loss']\n",
    "x_len = np.arange((len(y_loss)))\n",
    "plt.plot(x_len, y_vloss, '.', c='red', label='validation loss')\n",
    "plt.plot(x_len, y_loss, '.', c='blue', label='train loss')\n",
    "plt.legend(loc='best')\n",
    "plt.show()"
   ]
  }
 ],
 "metadata": {
  "kernelspec": {
   "display_name": "Python 3",
   "language": "python",
   "name": "python3"
  },
  "language_info": {
   "codemirror_mode": {
    "name": "ipython",
    "version": 3
   },
   "file_extension": ".py",
   "mimetype": "text/x-python",
   "name": "python",
   "nbconvert_exporter": "python",
   "pygments_lexer": "ipython3",
   "version": "3.7.4"
  }
 },
 "nbformat": 4,
 "nbformat_minor": 4
}
