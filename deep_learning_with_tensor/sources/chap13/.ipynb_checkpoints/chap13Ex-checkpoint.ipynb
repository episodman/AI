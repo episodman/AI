{
 "cells": [
  {
   "cell_type": "code",
   "execution_count": 1,
   "metadata": {},
   "outputs": [
    {
     "name": "stdout",
     "output_type": "stream",
     "text": [
      "Model: \"sequential\"\n",
      "_________________________________________________________________\n",
      "Layer (type)                 Output Shape              Param #   \n",
      "=================================================================\n",
      "dense (Dense)                (None, 30)                540       \n",
      "_________________________________________________________________\n",
      "dense_1 (Dense)              (None, 12)                372       \n",
      "_________________________________________________________________\n",
      "dense_2 (Dense)              (None, 1)                 13        \n",
      "=================================================================\n",
      "Total params: 925\n",
      "Trainable params: 925\n",
      "Non-trainable params: 0\n",
      "_________________________________________________________________\n",
      "Epoch 1/30\n",
      "47/47 [==============================] - 0s 824us/step - loss: 0.7945 - accuracy: 0.8085\n",
      "Epoch 2/30\n",
      "47/47 [==============================] - 0s 767us/step - loss: 0.5173 - accuracy: 0.8468\n",
      "Epoch 3/30\n",
      "47/47 [==============================] - 0s 892us/step - loss: 0.5118 - accuracy: 0.8213\n",
      "Epoch 4/30\n",
      "47/47 [==============================] - 0s 763us/step - loss: 0.4959 - accuracy: 0.8468\n",
      "Epoch 5/30\n",
      "47/47 [==============================] - 0s 850us/step - loss: 0.5225 - accuracy: 0.8340\n",
      "Epoch 6/30\n",
      "47/47 [==============================] - 0s 780us/step - loss: 0.5244 - accuracy: 0.8170\n",
      "Epoch 7/30\n",
      "47/47 [==============================] - 0s 806us/step - loss: 0.5031 - accuracy: 0.8426\n",
      "Epoch 8/30\n",
      "47/47 [==============================] - 0s 764us/step - loss: 0.5088 - accuracy: 0.8404\n",
      "Epoch 9/30\n",
      "47/47 [==============================] - 0s 888us/step - loss: 0.5077 - accuracy: 0.8447\n",
      "Epoch 10/30\n",
      "47/47 [==============================] - 0s 907us/step - loss: 0.4521 - accuracy: 0.8511\n",
      "Epoch 11/30\n",
      "47/47 [==============================] - 0s 844us/step - loss: 0.4302 - accuracy: 0.8511\n",
      "Epoch 12/30\n",
      "47/47 [==============================] - 0s 846us/step - loss: 0.4325 - accuracy: 0.8511\n",
      "Epoch 13/30\n",
      "47/47 [==============================] - 0s 842us/step - loss: 0.4557 - accuracy: 0.8489\n",
      "Epoch 14/30\n",
      "47/47 [==============================] - 0s 850us/step - loss: 0.4698 - accuracy: 0.8340\n",
      "Epoch 15/30\n",
      "47/47 [==============================] - 0s 785us/step - loss: 0.4844 - accuracy: 0.8511\n",
      "Epoch 16/30\n",
      "47/47 [==============================] - 0s 735us/step - loss: 0.4587 - accuracy: 0.8426\n",
      "Epoch 17/30\n",
      "47/47 [==============================] - 0s 802us/step - loss: 0.4325 - accuracy: 0.8511\n",
      "Epoch 18/30\n",
      "47/47 [==============================] - 0s 798us/step - loss: 0.4273 - accuracy: 0.8511\n",
      "Epoch 19/30\n",
      "47/47 [==============================] - 0s 787us/step - loss: 0.4261 - accuracy: 0.8511\n",
      "Epoch 20/30\n",
      "47/47 [==============================] - 0s 878us/step - loss: 0.4962 - accuracy: 0.8298\n",
      "Epoch 21/30\n",
      "47/47 [==============================] - 0s 731us/step - loss: 0.4490 - accuracy: 0.8511\n",
      "Epoch 22/30\n",
      "47/47 [==============================] - 0s 2ms/step - loss: 0.4414 - accuracy: 0.8511\n",
      "Epoch 23/30\n",
      "47/47 [==============================] - 0s 808us/step - loss: 0.4279 - accuracy: 0.8511\n",
      "Epoch 24/30\n",
      "47/47 [==============================] - 0s 984us/step - loss: 0.4250 - accuracy: 0.8489\n",
      "Epoch 25/30\n",
      "47/47 [==============================] - 0s 845us/step - loss: 0.4209 - accuracy: 0.8511\n",
      "Epoch 26/30\n",
      "47/47 [==============================] - 0s 753us/step - loss: 0.4780 - accuracy: 0.8489\n",
      "Epoch 27/30\n",
      "47/47 [==============================] - 0s 792us/step - loss: 0.5069 - accuracy: 0.8319\n",
      "Epoch 28/30\n",
      "47/47 [==============================] - 0s 848us/step - loss: 0.4185 - accuracy: 0.8511\n",
      "Epoch 29/30\n",
      "47/47 [==============================] - 0s 781us/step - loss: 0.4178 - accuracy: 0.8511\n",
      "Epoch 30/30\n",
      "47/47 [==============================] - 0s 750us/step - loss: 0.4379 - accuracy: 0.8532\n"
     ]
    },
    {
     "data": {
      "text/plain": [
       "<tensorflow.python.keras.callbacks.History at 0x7f43ab3307d0>"
      ]
     },
     "execution_count": 1,
     "metadata": {},
     "output_type": "execute_result"
    }
   ],
   "source": [
    "from tensorflow.keras.models import Sequential\n",
    "from tensorflow.keras.layers import Dense\n",
    "import numpy as np\n",
    "import tensorflow as tf\n",
    "\n",
    "np.random.seed(0)\n",
    "tf.random.set_seed(0)\n",
    "\n",
    "data = np.loadtxt('ThoraricSurgery.csv', delimiter=',')\n",
    "\n",
    "x_data = data[:, 0:17]\n",
    "y_data = data[:, 17]\n",
    "\n",
    "model = Sequential()\n",
    "#  첫 은닉(hidden layer) input_dim을 추가해야된다.\n",
    "# 일반적으로는 은닉층 노드개수가 입력노드 개수보다 많아야 효율적이다.\n",
    "# \n",
    "model.add(Dense(30, input_dim=17, activation='relu'))\n",
    "model.add(Dense(12, activation='relu'))\n",
    "model.add(Dense(1, activation='sigmoid'))\n",
    "\n",
    "model.compile(loss='binary_crossentropy', optimizer='adam', metrics=['accuracy'])\n",
    "model.summary()\n",
    "\n",
    "model.fit(x_data, y_data, epochs=30, batch_size=10)"
   ]
  },
  {
   "cell_type": "code",
   "execution_count": 2,
   "metadata": {},
   "outputs": [
    {
     "name": "stdout",
     "output_type": "stream",
     "text": [
      "15/15 [==============================] - 0s 607us/step - loss: 0.4976 - accuracy: 0.8447\n"
     ]
    },
    {
     "data": {
      "text/plain": [
       "[0.49759215116500854, 0.8446808457374573]"
      ]
     },
     "execution_count": 2,
     "metadata": {},
     "output_type": "execute_result"
    }
   ],
   "source": [
    "model.evaluate(x_data, y_data)\n",
    "# evaluate가 return = [loss, accuracy]"
   ]
  },
  {
   "cell_type": "code",
   "execution_count": null,
   "metadata": {},
   "outputs": [],
   "source": []
  },
  {
   "cell_type": "code",
   "execution_count": null,
   "metadata": {},
   "outputs": [],
   "source": []
  },
  {
   "cell_type": "code",
   "execution_count": null,
   "metadata": {},
   "outputs": [],
   "source": []
  }
 ],
 "metadata": {
  "kernelspec": {
   "display_name": "Python 3",
   "language": "python",
   "name": "python3"
  },
  "language_info": {
   "codemirror_mode": {
    "name": "ipython",
    "version": 3
   },
   "file_extension": ".py",
   "mimetype": "text/x-python",
   "name": "python",
   "nbconvert_exporter": "python",
   "pygments_lexer": "ipython3",
   "version": "3.8.5"
  }
 },
 "nbformat": 4,
 "nbformat_minor": 4
}
