{
 "cells": [
  {
   "cell_type": "code",
   "execution_count": 4,
   "metadata": {},
   "outputs": [
    {
     "name": "stdout",
     "output_type": "stream",
     "text": [
      "output:  [[-0.77005637 -0.03206512  0.72178566]]\n",
      "hidden_state:  [[-0.77005637 -0.03206512  0.72178566]]\n"
     ]
    }
   ],
   "source": [
    "import tensorflow as tf\n",
    "from tensorflow.keras.layers import Input, SimpleRNN\n",
    "from tensorflow.keras.models import Model\n",
    "import numpy as np\n",
    "\n",
    "tf.random.set_seed(1)\n",
    "np.random.seed(1)\n",
    "inputs = Input(shape=(1,2))\n",
    "output, hidden_state = SimpleRNN(3, return_state=True)(inputs)\n",
    "model = Model(inputs=inputs, outputs=[output, hidden_state])\n",
    "\n",
    "data = np.array([[ [1,2] ]])\n",
    "output, hidden_state = model.predict(data)\n",
    "print(\"output: \",output)\n",
    "print(\"hidden_state: \",hidden_state)"
   ]
  },
  {
   "cell_type": "code",
   "execution_count": 5,
   "metadata": {},
   "outputs": [
    {
     "name": "stdout",
     "output_type": "stream",
     "text": [
      "WARNING:tensorflow:5 out of the last 5 calls to <function Model.make_predict_function.<locals>.predict_function at 0x7f2a25965e60> triggered tf.function retracing. Tracing is expensive and the excessive number of tracings could be due to (1) creating @tf.function repeatedly in a loop, (2) passing tensors with different shapes, (3) passing Python objects instead of tensors. For (1), please define your @tf.function outside of the loop. For (2), @tf.function has experimental_relax_shapes=True option that relaxes argument shapes that can avoid unnecessary retracing. For (3), please refer to https://www.tensorflow.org/tutorials/customization/performance#python_or_tensor_args and https://www.tensorflow.org/api_docs/python/tf/function for  more details.\n",
      "\n",
      " [[[ 0.54391825  0.24354757  0.02726344]\n",
      "  [ 0.2543367  -0.2215153  -0.70710266]\n",
      "  [-0.02133254  0.71822613  0.0680145 ]\n",
      "  [-0.27135774 -0.44692674  0.00939079]]\n",
      "\n",
      " [[ 0.54391825  0.24354757  0.02726344]\n",
      "  [ 0.17483439 -0.34556997 -0.5084784 ]\n",
      "  [-0.20281315  0.7054854  -0.09443933]\n",
      "  [-0.2546866  -0.15914652 -0.16518137]]]\n"
     ]
    }
   ],
   "source": [
    "# I      [1,0,0,0]\n",
    "# work   [0,1,0,0]\n",
    "# at     [0,0,1,0]\n",
    "# home [0,0,0,1]\n",
    "#\n",
    "# I work at home =  [ [1,0,0,0], [0,1,0,0], [0,0,1,0], [0,0,0,1] ]\n",
    "# I home at work =  [ [1,0,0,0], [0,0,0,1], [0,0,1,0], [0,1,0,0] ]\n",
    "\n",
    "data = np.array([\n",
    "    [ [1,0,0,0], [0,1,0,0], [0,0,1,0], [0,0,0,1] ],\n",
    "    [ [1,0,0,0], [0,0,0,1], [0,0,1,0], [0,1,0,0] ]\n",
    "])\n",
    "\n",
    "inputs = Input(shape=(4, 4))\n",
    "\n",
    "output, hidden_state = SimpleRNN(3, return_state=True, return_sequences=True)(inputs)\n",
    "model = Model(inputs=inputs, outputs=[output, hidden_state])\n",
    "\n",
    "output, state = model.predict(data)\n",
    "print('\\n',output)"
   ]
  },
  {
   "cell_type": "code",
   "execution_count": null,
   "metadata": {},
   "outputs": [],
   "source": []
  },
  {
   "cell_type": "code",
   "execution_count": null,
   "metadata": {},
   "outputs": [],
   "source": []
  },
  {
   "cell_type": "code",
   "execution_count": null,
   "metadata": {},
   "outputs": [],
   "source": []
  }
 ],
 "metadata": {
  "kernelspec": {
   "display_name": "Python 3",
   "language": "python",
   "name": "python3"
  },
  "language_info": {
   "codemirror_mode": {
    "name": "ipython",
    "version": 3
   },
   "file_extension": ".py",
   "mimetype": "text/x-python",
   "name": "python",
   "nbconvert_exporter": "python",
   "pygments_lexer": "ipython3",
   "version": "3.7.4"
  }
 },
 "nbformat": 4,
 "nbformat_minor": 4
}
