{
 "cells": [
  {
   "cell_type": "code",
   "execution_count": null,
   "metadata": {},
   "outputs": [
    {
     "name": "stdout",
     "output_type": "stream",
     "text": [
      "Epoch 1/20\n",
      "210/210 [==============================] - 1s 7ms/step - loss: 0.2984 - accuracy: 0.9145 - val_loss: 0.1503 - val_accuracy: 0.9568\n",
      "Epoch 2/20\n",
      "210/210 [==============================] - 1s 6ms/step - loss: 0.1088 - accuracy: 0.9675 - val_loss: 0.1122 - val_accuracy: 0.9652\n",
      "Epoch 3/20\n",
      "210/210 [==============================] - 1s 7ms/step - loss: 0.0667 - accuracy: 0.9805 - val_loss: 0.0989 - val_accuracy: 0.9706\n",
      "Epoch 4/20\n",
      "209/210 [============================>.] - ETA: 0s - loss: 0.0445 - accuracy: 0.9860"
     ]
    }
   ],
   "source": [
    "from tensorflow.keras.datasets import mnist\n",
    "from tensorflow.keras.utils import  to_categorical\n",
    "from tensorflow.keras.models import Sequential\n",
    "from tensorflow.keras.layers import Dense\n",
    "import matplotlib.pyplot as plt\n",
    "import numpy as np\n",
    "import tensorflow as tf\n",
    "\n",
    "\n",
    "np.random.seed(3)\n",
    "tf.random.set_seed(3)\n",
    "\n",
    "(x_train, y_train), (x_test, y_test) = mnist.load_data()\n",
    "x_train = x_train.reshape(x_train.shape[0], 784).astype(float)/255\n",
    "x_test = x_test.reshape(x_test.shape[0], 784).astype(float)/255\n",
    "\n",
    "y_train = to_categorical(y_train, 10)\n",
    "y_test = to_categorical(y_test, 10)\n",
    "\n",
    "\n",
    "model = Sequential()\n",
    "model.add(Dense(512, input_dim=784, activation='relu'))\n",
    "model.add(Dense(256, activation='relu'))\n",
    "model.add(Dense(10, activation='softmax'))\n",
    "\n",
    "model.compile(loss='categorical_crossentropy',\n",
    "              optimizer='adam',\n",
    "              metrics=['accuracy'])\n",
    "\n",
    "result = model.fit(x_train, y_train,\n",
    "                   validation_split=0.3,\n",
    "                   epochs=20,\n",
    "                   batch_size=200)\n",
    "print('accuracy:', model.evaluate(x_test, y_test)[1])\n",
    "y_vloss = result.history['val_loss']\n",
    "y_loss = result.history['loss']\n",
    "x_len = np.arange((len(y_loss)))\n",
    "plt.plot(x_len, y_vloss, '.', c='red', label='validation loss')\n",
    "plt.plot(x_len, y_loss, '.', c='blue', label='train loss')\n",
    "plt.legend(loc='best')\n",
    "plt.show()"
   ]
  },
  {
   "cell_type": "code",
   "execution_count": null,
   "metadata": {},
   "outputs": [],
   "source": []
  },
  {
   "cell_type": "code",
   "execution_count": null,
   "metadata": {},
   "outputs": [],
   "source": []
  },
  {
   "cell_type": "code",
   "execution_count": null,
   "metadata": {},
   "outputs": [],
   "source": []
  },
  {
   "cell_type": "code",
   "execution_count": null,
   "metadata": {},
   "outputs": [],
   "source": []
  }
 ],
 "metadata": {
  "kernelspec": {
   "display_name": "Python 3",
   "language": "python",
   "name": "python3"
  },
  "language_info": {
   "codemirror_mode": {
    "name": "ipython",
    "version": 3
   },
   "file_extension": ".py",
   "mimetype": "text/x-python",
   "name": "python",
   "nbconvert_exporter": "python",
   "pygments_lexer": "ipython3",
   "version": "3.7.4"
  }
 },
 "nbformat": 4,
 "nbformat_minor": 4
}
