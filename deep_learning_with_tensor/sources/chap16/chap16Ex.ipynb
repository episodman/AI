{
 "cells": [
  {
   "cell_type": "code",
   "execution_count": 2,
   "metadata": {},
   "outputs": [
    {
     "name": "stdout",
     "output_type": "stream",
     "text": [
      "Epoch 1/20\n",
      "210/210 [==============================] - 1s 7ms/step - loss: 0.2984 - accuracy: 0.9145 - val_loss: 0.1503 - val_accuracy: 0.9568\n",
      "Epoch 2/20\n",
      "210/210 [==============================] - 1s 6ms/step - loss: 0.1088 - accuracy: 0.9675 - val_loss: 0.1122 - val_accuracy: 0.9652\n",
      "Epoch 3/20\n",
      "210/210 [==============================] - 1s 7ms/step - loss: 0.0667 - accuracy: 0.9805 - val_loss: 0.0989 - val_accuracy: 0.9706\n",
      "Epoch 4/20\n",
      "210/210 [==============================] - 1s 6ms/step - loss: 0.0444 - accuracy: 0.9860 - val_loss: 0.0941 - val_accuracy: 0.9711\n",
      "Epoch 5/20\n",
      "210/210 [==============================] - 1s 6ms/step - loss: 0.0308 - accuracy: 0.9907 - val_loss: 0.1112 - val_accuracy: 0.9682\n",
      "Epoch 6/20\n",
      "210/210 [==============================] - 1s 6ms/step - loss: 0.0226 - accuracy: 0.9936 - val_loss: 0.0937 - val_accuracy: 0.9735\n",
      "Epoch 7/20\n",
      "210/210 [==============================] - 1s 6ms/step - loss: 0.0144 - accuracy: 0.9958 - val_loss: 0.1031 - val_accuracy: 0.9729\n",
      "Epoch 8/20\n",
      "210/210 [==============================] - 1s 6ms/step - loss: 0.0146 - accuracy: 0.9953 - val_loss: 0.0991 - val_accuracy: 0.9746\n",
      "Epoch 9/20\n",
      "210/210 [==============================] - 1s 6ms/step - loss: 0.0089 - accuracy: 0.9974 - val_loss: 0.1002 - val_accuracy: 0.9748\n",
      "Epoch 10/20\n",
      "210/210 [==============================] - 1s 6ms/step - loss: 0.0091 - accuracy: 0.9973 - val_loss: 0.0941 - val_accuracy: 0.9763\n",
      "Epoch 11/20\n",
      "210/210 [==============================] - 1s 7ms/step - loss: 0.0134 - accuracy: 0.9958 - val_loss: 0.1139 - val_accuracy: 0.9727\n",
      "Epoch 12/20\n",
      "210/210 [==============================] - 1s 6ms/step - loss: 0.0097 - accuracy: 0.9969 - val_loss: 0.1052 - val_accuracy: 0.9758\n",
      "Epoch 13/20\n",
      "210/210 [==============================] - 1s 7ms/step - loss: 0.0049 - accuracy: 0.9986 - val_loss: 0.1294 - val_accuracy: 0.9713\n",
      "Epoch 14/20\n",
      "210/210 [==============================] - 1s 6ms/step - loss: 0.0112 - accuracy: 0.9965 - val_loss: 0.1196 - val_accuracy: 0.9740\n",
      "Epoch 15/20\n",
      "210/210 [==============================] - 1s 6ms/step - loss: 0.0096 - accuracy: 0.9971 - val_loss: 0.1110 - val_accuracy: 0.9754\n",
      "Epoch 16/20\n",
      "210/210 [==============================] - 1s 6ms/step - loss: 0.0077 - accuracy: 0.9971 - val_loss: 0.1097 - val_accuracy: 0.9778\n",
      "Epoch 17/20\n",
      "210/210 [==============================] - 1s 6ms/step - loss: 0.0068 - accuracy: 0.9978 - val_loss: 0.1207 - val_accuracy: 0.9769\n",
      "Epoch 18/20\n",
      "210/210 [==============================] - 1s 7ms/step - loss: 0.0031 - accuracy: 0.9991 - val_loss: 0.1057 - val_accuracy: 0.9788\n",
      "Epoch 19/20\n",
      "210/210 [==============================] - 1s 6ms/step - loss: 0.0013 - accuracy: 0.9997 - val_loss: 0.1013 - val_accuracy: 0.9814\n",
      "Epoch 20/20\n",
      "210/210 [==============================] - 1s 6ms/step - loss: 1.5890e-04 - accuracy: 1.0000 - val_loss: 0.1008 - val_accuracy: 0.9814\n",
      "313/313 [==============================] - 0s 2ms/step - loss: 0.0825 - accuracy: 0.9829\n",
      "accuracy: 0.9829000234603882\n"
     ]
    },
    {
     "data": {
      "image/png": "[encoded data removed]",
      "text/plain": [
       "<Figure size 432x288 with 1 Axes>"
      ]
     },
     "metadata": {
      "needs_background": "light"
     },
     "output_type": "display_data"
    }
   ],
   "source": [
    "from tensorflow.keras.datasets import mnist\n",
    "from tensorflow.keras.utils import  to_categorical\n",
    "from tensorflow.keras.models import Sequential\n",
    "from tensorflow.keras.layers import Dense\n",
    "import matplotlib.pyplot as plt\n",
    "import numpy as np\n",
    "import tensorflow as tf\n",
    "\n",
    "\n",
    "np.random.seed(3)\n",
    "tf.random.set_seed(3)\n",
    "\n",
    "(x_train, y_train), (x_test, y_test) = mnist.load_data()\n",
    "x_train = x_train.reshape(x_train.shape[0], 784).astype(float)/255\n",
    "x_test = x_test.reshape(x_test.shape[0], 784).astype(float)/255\n",
    "\n",
    "y_train = to_categorical(y_train, 10)\n",
    "y_test = to_categorical(y_test, 10)\n",
    "\n",
    "\n",
    "model = Sequential()\n",
    "model.add(Dense(512, input_dim=784, activation='relu'))\n",
    "model.add(Dense(256, activation='relu'))\n",
    "model.add(Dense(10, activation='softmax'))\n",
    "\n",
    "model.compile(loss='categorical_crossentropy',\n",
    "              optimizer='adam',\n",
    "              metrics=['accuracy'])\n",
    "\n",
    "result = model.fit(x_train, y_train,\n",
    "                   validation_split=0.3,\n",
    "                   epochs=20,\n",
    "                   batch_size=200)\n",
    "print('accuracy:', model.evaluate(x_test, y_test)[1])\n",
    "y_vloss = result.history['val_loss']\n",
    "y_loss = result.history['loss']\n",
    "x_len = np.arange((len(y_loss)))\n",
    "plt.plot(x_len, y_vloss, '.', c='red', label='validation loss')\n",
    "plt.plot(x_len, y_loss, '.', c='blue', label='train loss')\n",
    "plt.legend(loc='best')\n",
    "plt.show()"
   ]
  },
  {
   "cell_type": "code",
   "execution_count": null,
   "metadata": {},
   "outputs": [],
   "source": []
  },
  {
   "cell_type": "code",
   "execution_count": null,
   "metadata": {},
   "outputs": [],
   "source": []
  },
  {
   "cell_type": "code",
   "execution_count": null,
   "metadata": {},
   "outputs": [],
   "source": []
  },
  {
   "cell_type": "code",
   "execution_count": null,
   "metadata": {},
   "outputs": [],
   "source": []
  }
 ],
 "metadata": {
  "kernelspec": {
   "display_name": "Python 3",
   "language": "python",
   "name": "python3"
  },
  "language_info": {
   "codemirror_mode": {
    "name": "ipython",
    "version": 3
   },
   "file_extension": ".py",
   "mimetype": "text/x-python",
   "name": "python",
   "nbconvert_exporter": "python",
   "pygments_lexer": "ipython3",
   "version": "3.7.4"
  }
 },
 "nbformat": 4,
 "nbformat_minor": 4
}
