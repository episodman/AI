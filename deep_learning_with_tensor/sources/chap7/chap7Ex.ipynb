{
 "cells": [
  {
   "cell_type": "code",
   "execution_count": 1,
   "metadata": {},
   "outputs": [
    {
     "name": "stdout",
     "output_type": "stream",
     "text": [
      "weights: \n",
      " [[0.2737803 ]\n",
      " [0.08836086]] \n",
      "\n",
      "bias: \n",
      " [0.21987937]\n"
     ]
    }
   ],
   "source": [
    "import tensorflow as tf\n",
    "import numpy as np\n",
    "\n",
    "x_train = np.array([[1., 1.],\n",
    "                   [1., 2.],\n",
    "                   [2., 1.],\n",
    "                   [3., 2.],\n",
    "                   [3., 3.],\n",
    "                   [2., 3.]],\n",
    "                   dtype=np.float32)\n",
    "\n",
    "y_train = np.array([[0.],\n",
    "                   [0.],\n",
    "                   [0.],\n",
    "                   [1.],\n",
    "                   [1.],\n",
    "                   [1.]],\n",
    "                   dtype=np.float32)\n",
    "\n",
    "\n",
    "\n",
    "tf.random.set_seed(12345)\n",
    "W = tf.Variable(tf.random.normal([2, 1], mean=0.0))\n",
    "b = tf.Variable(tf.random.normal([1], mean=0.0))\n",
    "\n",
    "print('weights: \\n', W.numpy(), '\\n\\nbias: \\n', b.numpy())"
   ]
  },
  {
   "cell_type": "code",
   "execution_count": 2,
   "metadata": {},
   "outputs": [
    {
     "name": "stdout",
     "output_type": "stream",
     "text": [
      "0 \n",
      " weights: \n",
      "[[0.2652075 ]\n",
      " [0.08053297]] \n",
      " bias: \n",
      "[0.20687035] \n",
      " cost: 4.122779846191406\n",
      "\n",
      "400 \n",
      " weights: \n",
      "[[0.712996 ]\n",
      " [0.6827528]] \n",
      " bias: \n",
      "[-2.3853571] \n",
      " cost: 2.1599490642547607\n",
      "\n",
      "800 \n",
      " weights: \n",
      "[[1.0833972]\n",
      " [1.0773938]] \n",
      " bias: \n",
      "[-3.974235] \n",
      " cost: 1.445218563079834\n",
      "\n",
      "1200 \n",
      " weights: \n",
      "[[1.3559325]\n",
      " [1.3544557]] \n",
      " bias: \n",
      "[-5.102907] \n",
      " cost: 1.0861058235168457\n",
      "\n",
      "1600 \n",
      " weights: \n",
      "[[1.5694492]\n",
      " [1.5690154]] \n",
      " bias: \n",
      "[-5.97691] \n",
      " cost: 0.8711534142494202\n",
      "\n",
      "2000 \n",
      " weights: \n",
      "[[1.7447244]\n",
      " [1.744578 ]] \n",
      " bias: \n",
      "[-6.690599] \n",
      " cost: 0.7279360294342041\n",
      "\n"
     ]
    }
   ],
   "source": [
    "learning_rate = 0.01\n",
    "\n",
    "\n",
    "def predict(X):\n",
    "    z = tf.matmul(X, W) + b\n",
    "    hypothesis = 1 / (1 + tf.exp(-z))\n",
    "    return hypothesis\n",
    "\n",
    "for i in range(2001):\n",
    "    with tf.GradientTape() as tape:\n",
    "        hypothesis = predict(x_train)\n",
    "        cost = tf.reduce_mean(-tf.reduce_sum(y_train*tf.math.log(hypothesis) + (1-y_train)*tf.math.log(1-hypothesis)))\n",
    "        W_grad, b_grad = tape.gradient(cost, [W, b])\n",
    "\n",
    "        W.assign_sub(learning_rate * W_grad)\n",
    "        b.assign_sub(learning_rate * b_grad)\n",
    "\n",
    "    if i % 400 == 0:\n",
    "        print(\"{} \\n weights: \\n{} \\n bias: \\n{} \\n cost: {}\\n\".format(i, W.numpy(), b.numpy(), cost.numpy()))\n"
   ]
  },
  {
   "cell_type": "code",
   "execution_count": 3,
   "metadata": {},
   "outputs": [
    {
     "name": "stdout",
     "output_type": "stream",
     "text": [
      "hypothesis: \n",
      " [[0.03911696]\n",
      " [0.18896975]\n",
      " [0.18899219]\n",
      " [0.884191  ]\n",
      " [0.9776277 ]\n",
      " [0.88417596]]\n",
      "result: \n",
      " [[0.]\n",
      " [0.]\n",
      " [0.]\n",
      " [1.]\n",
      " [1.]\n",
      " [1.]]\n",
      "accuracy: 1.0\n"
     ]
    }
   ],
   "source": [
    "hypo = predict(x_train)\n",
    "print(\"hypothesis: \\n\", hypo.numpy())\n",
    "print(\"result: \\n\", tf.cast(hypo > 0.5, dtype=tf.float32).numpy())\n",
    "def acc(hypo, label):\n",
    "    predicted = tf.cast(hypo > 0.5, dtype=tf.float32)\n",
    "    accuracy = tf.reduce_mean(tf.cast(tf.equal(predicted, label), dtype=tf.float32))\n",
    "    return accuracy\n",
    "\n",
    "accuracy = acc(predict(x_train), y_train).numpy()\n",
    "print(\"accuracy: %s\" % accuracy)\n"
   ]
  },
  {
   "cell_type": "code",
   "execution_count": null,
   "metadata": {},
   "outputs": [],
   "source": []
  },
  {
   "cell_type": "code",
   "execution_count": null,
   "metadata": {},
   "outputs": [],
   "source": []
  },
  {
   "cell_type": "code",
   "execution_count": null,
   "metadata": {},
   "outputs": [],
   "source": []
  },
  {
   "cell_type": "code",
   "execution_count": null,
   "metadata": {},
   "outputs": [],
   "source": []
  },
  {
   "cell_type": "code",
   "execution_count": null,
   "metadata": {},
   "outputs": [],
   "source": []
  },
  {
   "cell_type": "code",
   "execution_count": null,
   "metadata": {},
   "outputs": [],
   "source": []
  },
  {
   "cell_type": "code",
   "execution_count": null,
   "metadata": {},
   "outputs": [],
   "source": []
  },
  {
   "cell_type": "code",
   "execution_count": null,
   "metadata": {},
   "outputs": [],
   "source": []
  },
  {
   "cell_type": "code",
   "execution_count": null,
   "metadata": {},
   "outputs": [],
   "source": []
  }
 ],
 "metadata": {
  "kernelspec": {
   "display_name": "Python 3",
   "language": "python",
   "name": "python3"
  },
  "language_info": {
   "codemirror_mode": {
    "name": "ipython",
    "version": 3
   },
   "file_extension": ".py",
   "mimetype": "text/x-python",
   "name": "python",
   "nbconvert_exporter": "python",
   "pygments_lexer": "ipython3",
   "version": "3.8.5"
  }
 },
 "nbformat": 4,
 "nbformat_minor": 4
}
