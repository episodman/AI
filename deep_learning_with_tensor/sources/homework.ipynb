{
 "cells": [
  {
   "cell_type": "code",
   "execution_count": 3,
   "id": "b22d2935",
   "metadata": {
    "scrolled": true
   },
   "outputs": [],
   "source": [
    "from tensorflow.keras.datasets import mnist\n",
    "from tensorflow.keras.utils import  to_categorical\n",
    "from tensorflow.keras.models import Sequential\n",
    "from tensorflow.keras.layers import Dense\n",
    "import matplotlib.pyplot as plt\n",
    "import numpy as np\n",
    "import tensorflow as tf\n",
    "\n",
    "# 2. Model data를 train과 test데이터로 나누어 구성한다. 이때 train,test데이터 비율은 80:20\n",
    "model = Sequential()\n",
    "\n",
    "# 3. hidden 층은 모델에 알맞게 구성한다.\n",
    "model.add(Dense(30, input_dim=60, activation='relu'))\n",
    "model.add(Dense(10, activation='relu'))\n",
    "model.add(Dense(1, activation='sigmoid'))\n",
    "\n",
    "# 4. 모델에 적용할 알맞은 옵티마이저를 선택하여 구성한다.\n",
    "model.compile(loss='binary_crossentropy',\n",
    "                  optimizer='adam',\n",
    "                  metrics=['accuracy'])\n",
    "\n",
    "\n",
    "# 5. train/test 데이터 별로 loss, accuracy를 출력한다.\n",
    "#k_accuracy = \"%.3f\" % (model.evaluate(x_data[test], y_data[test])[1])\n",
    "#    accuracy.append(k_accuracy)\n",
    "\n",
    "#print(\"\\n %.f fold accuracy:\" % n_fold, accuracy)\n",
    "\n",
    "# 6. 모델의 학습시 사용한 trains데이터와 학습후 적용한 test 데이터의loss,accuracy를 그래프로 표시\n"
   ]
  },
  {
   "cell_type": "code",
   "execution_count": null,
   "id": "6d13a4b5",
   "metadata": {},
   "outputs": [],
   "source": []
  }
 ],
 "metadata": {
  "kernelspec": {
   "display_name": "Python 3",
   "language": "python",
   "name": "python3"
  },
  "language_info": {
   "codemirror_mode": {
    "name": "ipython",
    "version": 3
   },
   "file_extension": ".py",
   "mimetype": "text/x-python",
   "name": "python",
   "nbconvert_exporter": "python",
   "pygments_lexer": "ipython3",
   "version": "3.6.9"
  }
 },
 "nbformat": 4,
 "nbformat_minor": 5
}
